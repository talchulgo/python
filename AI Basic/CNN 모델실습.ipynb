import tensorflow as tf
import matplotlib.pyplot as plt
from keras.applications import vgg16

model = vgg16.VGG16()
model.summary()

model = tf.keras.Sequential([
    tf.keras.layers.Conv2D(input_shape=(244,244,3), filters=64,kernel_size=(3,3),padding='same',activation='relu'),
    tf.keras.layers.Conv2D(filters=64, kernel_size=(3,3), padding='same',activation='relu'),
    tf.keras.layers.MaxPooling2D(pool_size=(2,2),strides=(2,2)),

    tf.keras.layers.Conv2D(filters=128, kernel_size=(3,3), padding='same',activation='relu'),
    tf.keras.layers.Conv2D(filters=128, kernel_size=(3,3), padding='same',activation='relu'),
    tf.keras.layers.MaxPooling2D(pool_size=(2,2),strides=(2,2)),

    tf.keras.layers.Conv2D(filters=256, kernel_size=(3,3), padding='same',activation='relu'),
    tf.keras.layers.Conv2D(filters=256, kernel_size=(3,3), padding='same',activation='relu'),
    tf.keras.layers.Conv2D(filters=256, kernel_size=(3,3), padding='same',activation='relu'),
    tf.keras.layers.MaxPooling2D(pool_size=(2,2),strides=(2,2)),

    tf.keras.layers.Conv2D(filters=512, kernel_size=(3,3), padding='same',activation='relu'),
    tf.keras.layers.Conv2D(filters=512, kernel_size=(3,3), padding='same',activation='relu'),
    tf.keras.layers.Conv2D(filters=512, kernel_size=(3,3), padding='same',activation='relu'),
    tf.keras.layers.MaxPooling2D(pool_size=(2,2),strides=(2,2)),

    tf.keras.layers.Conv2D(filters=512, kernel_size=(3,3), padding='same',activation='relu'),
    tf.keras.layers.Conv2D(filters=512, kernel_size=(3,3), padding='same',activation='relu'),
    tf.keras.layers.Conv2D(filters=512, kernel_size=(3,3), padding='same',activation='relu'),
    tf.keras.layers.MaxPooling2D(pool_size=(2,2),strides=(2,2)),
    
    tf.keras.layers.Flatten(),
    tf.keras.layers.Dense(units=4096, activation='relu'),
    tf.keras.layers.Dense(units=4096, activation='relu'),
    tf.keras.layers.Dense(units=1000, activation='softmax'),
    
])
model.summary()
